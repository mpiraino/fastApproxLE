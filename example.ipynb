{
 "cells": [
  {
   "cell_type": "code",
   "execution_count": 1,
   "metadata": {},
   "outputs": [],
   "source": [
    "from itertools import product\n",
    "from mpmath import *\n",
    "from LyapunovExponents import *"
   ]
  },
  {
   "cell_type": "code",
   "execution_count": 2,
   "metadata": {},
   "outputs": [],
   "source": [
    "k=12"
   ]
  },
  {
   "cell_type": "code",
   "execution_count": 3,
   "metadata": {},
   "outputs": [],
   "source": [
    "periodic_points = []\n",
    "for i in range(1,k+1):\n",
    "    for j in list(map(''.join, product(['0','1'], repeat=i))):\n",
    "        periodic_points.append(j)"
   ]
  },
  {
   "cell_type": "code",
   "execution_count": 4,
   "metadata": {},
   "outputs": [],
   "source": [
    "def mathcalA2(word):\n",
    "    if word.split('1')[0] == '':\n",
    "        #the string is all 1's\n",
    "        return mpmath.matrix([[2,2],[2,1]])\n",
    "    elif '1' in word.split('1')[0]:\n",
    "        #the string has both 0's and 1's\n",
    "        m = len(word.split('1')[0])\n",
    "        return mpmath.matrix([[2,1+2 ** -(m ** 3)],[1+3 ** -(m ** 3),1]])\n",
    "    else:\n",
    "        #the string is all 0's\n",
    "        return mpmath.matrix([[2,1],[1,1]])"
   ]
  },
  {
   "cell_type": "code",
   "execution_count": 5,
   "metadata": {},
   "outputs": [],
   "source": [
    "def mathcalA3(word):\n",
    "    if word.split('1')[0] == '':\n",
    "        #the string starts with 1\n",
    "        return mpmath.matrix([[2,2,1],[2,3,3],[1,2,4]])\n",
    "    elif '1' in word.split('1')[0]:\n",
    "        #the string has both 0's and 1's\n",
    "        m = len(word.split('1')[0])\n",
    "        return mpmath.matrix([[1+2 ** -(m ** 3),1 + 2 ** -(m ** 3), 3],[1+3 ** -(m **3), 3 ,1 + 2 ** -(m ** 3)],[1 + 4 ** -( m **3),2,4]])\n",
    "    else:\n",
    "        #the string is all 0's\n",
    "        return mpmath.matrix([[1,1, 3],[1,3,1],[1,2,4]])"
   ]
  },
  {
   "cell_type": "code",
   "execution_count": 6,
   "metadata": {},
   "outputs": [],
   "source": [
    "def mathcalA4(word):\n",
    "    if word.split('1')[0] == '':\n",
    "        #the string starts with 1\n",
    "        return mpmath.matrix([[2,2,1,4],[2,3,3,3],[1,2,4,2],[2,1,3,4]])\n",
    "    elif '1' in word.split('1')[0]:\n",
    "        #the string has both 0's and 1's\n",
    "        m = len(word.split('1')[0])\n",
    "        return mpmath.matrix([[1+2 ** -(m ** 3),1 + 2 ** -(m ** 3), 3,4],\\\n",
    "                              [1+3 ** -(m **3), 3 ,1 + 2 ** -(m ** 3),3],\\\n",
    "                              [1 + 4 ** -( m **3),2,4,2],\\\n",
    "                              [2,1,3,5- 2 ** -( m **3)]])\n",
    "    else:\n",
    "        #the string is all 0's\n",
    "        return mpmath.matrix([[1,1, 3,4],[1,3,1,3],[1,2,4,2],[2,1,3,5]])"
   ]
  },
  {
   "cell_type": "code",
   "execution_count": 7,
   "metadata": {},
   "outputs": [],
   "source": [
    "def mathcalA0(word):\n",
    "    if word[0] == '0':\n",
    "        return mpmath.matrix([[2,1],[1,1]])\n",
    "    elif word[0] == '1':\n",
    "        return mpmath.matrix([[3,1],[2,1]])\n",
    "    else:\n",
    "        return None"
   ]
  },
  {
   "cell_type": "code",
   "execution_count": 8,
   "metadata": {},
   "outputs": [],
   "source": [
    "def varphi2(word):\n",
    "    return 1/2"
   ]
  },
  {
   "cell_type": "code",
   "execution_count": 9,
   "metadata": {},
   "outputs": [],
   "source": [
    "results = lyapunov_exponent(mathcalA2, varphi2, periodic_points , alg = 'pollicott')"
   ]
  },
  {
   "cell_type": "code",
   "execution_count": 10,
   "metadata": {},
   "outputs": [
    {
     "name": "stdout",
     "output_type": "stream",
     "text": [
      "1.0930892585191470667621943484117528269000207362839\n",
      "1.1139967519492004869873973309787914824831691256453\n",
      "1.1133670895545127881073024993158385395675738325758\n",
      "1.1133669202661865540617075566532726406577649595851\n",
      "1.1133669202672276852075604957423405432651052082045\n",
      "1.113366920267227685938895076321222461899417589481\n",
      "1.1133669202672276859388950601649957114247040081253\n",
      "1.1133669202672276859388950601649957098775028066256\n",
      "1.1133669202672276859388950601649957098775028066231\n",
      "1.1133669202672276859388950601649957098775028066231\n",
      "1.1133669202672276859388950601649957098775028066231\n",
      "1.1133669202672276859388950601649957098775028066231\n"
     ]
    }
   ],
   "source": [
    "for res in results:\n",
    "    mpmath.nprint(res , 50)"
   ]
  },
  {
   "cell_type": "code",
   "execution_count": 11,
   "metadata": {},
   "outputs": [],
   "source": [
    "results2 = lyapunov_exponent(mathcalA2, varphi2, periodic_points , alg = 'basic', norm = 2)"
   ]
  },
  {
   "cell_type": "code",
   "execution_count": 12,
   "metadata": {},
   "outputs": [
    {
     "name": "stdout",
     "output_type": "stream",
     "text": [
      "1.1277148766292125102897100462521245836105881685855\n",
      "1.1150154099500960655320753446645997977652992615579\n",
      "1.1143569780684058037025097669044733685606158174167\n",
      "1.114107270566105045474623329356133454020916750991\n",
      "1.1139591555311909566789394964315043286746821685034\n",
      "1.1138604487199681311586151736301269949826903438262\n",
      "1.1137899446357142903043044184533488200344669764283\n",
      "1.1137370665892398777049986079678694151064766699053\n",
      "1.1136959392201186152973572768262614526291109708344\n",
      "1.113663037324829334146742143104773008214251443752\n",
      "1.1136361175923200893519019505375947981556181233678\n",
      "1.1136136844818957223133041134557976956533345600541\n"
     ]
    }
   ],
   "source": [
    "for res in results2:\n",
    "    mpmath.nprint(res , 50)"
   ]
  },
  {
   "cell_type": "code",
   "execution_count": 13,
   "metadata": {},
   "outputs": [],
   "source": [
    "results3 = lyapunov_exponent(mathcalA2, varphi2, periodic_points , alg = 'basic', norm = 1)"
   ]
  },
  {
   "cell_type": "code",
   "execution_count": 14,
   "metadata": {},
   "outputs": [
    {
     "name": "stdout",
     "output_type": "stream",
     "text": [
      "1.7776740307447068398530560383346836845813430419252\n",
      "1.4455710872652583587088064123280187298246791441636\n",
      "1.3348369554530205927296458668793123953589673291113\n",
      "1.2794694544576855143814565261023414324599143987747\n",
      "1.2462489477295101976343075070942938898779321896862\n",
      "1.2241019431540763441160920285338792301081229247263\n",
      "1.2082826541702651752822331466970272377964271691091\n",
      "1.1964181874323858644243924818556905783502782232887\n",
      "1.18719026885847940602384746041927626552223999859\n",
      "1.1798079339993542341084871110097565731460688342904\n",
      "1.1737678418418881842763790334101959022427555423133\n",
      "1.1687344317106664760816127771436742201389412662524\n"
     ]
    }
   ],
   "source": [
    "for res in results3:\n",
    "    mpmath.nprint(res , 50)"
   ]
  },
  {
   "cell_type": "code",
   "execution_count": 15,
   "metadata": {},
   "outputs": [],
   "source": [
    "results4 = lyapunov_exponent(mathcalA2, varphi2, periodic_points , alg = 'basic', norm = inf)"
   ]
  },
  {
   "cell_type": "code",
   "execution_count": 16,
   "metadata": {},
   "outputs": [
    {
     "name": "stdout",
     "output_type": "stream",
     "text": [
      "0.69314718055994530941723212145817656807550013436026\n",
      "0.90904979907125578805967630179526523614976039271441\n",
      "0.97722340985179757983226129135218929426069052625478\n",
      "1.0112601844287624800576821883438181141479038833961\n",
      "1.0316815442346594932837985583204474975155436426892\n",
      "1.0452957737589107366131761077776018307318971122692\n",
      "1.0550202232628990752801173506246394853576452050742\n",
      "1.0623135603884833048789973543450973430137213831835\n",
      "1.0679861559305666894663800356154685277121500487331\n",
      "1.0725242323642327998223095322869311750737996990205\n",
      "1.0762372039917777896407304529092080331666590299315\n",
      "1.0793313470147319476683456356082307278597023540241\n"
     ]
    }
   ],
   "source": [
    "for res in results4:\n",
    "    mpmath.nprint(res , 50)"
   ]
  },
  {
   "cell_type": "code",
   "execution_count": 17,
   "metadata": {},
   "outputs": [],
   "source": [
    "import pandas as pd"
   ]
  },
  {
   "cell_type": "code",
   "execution_count": 18,
   "metadata": {},
   "outputs": [],
   "source": [
    "df = pd.DataFrame({ \n",
    "    'max period': [i for i in range(1,k+1)],\n",
    "    'Pollicott':[nstr(res , 15) for res in results],\n",
    "    '2-norm':[nstr(res , 15) for res in results2],\n",
    "    '1-norm':[nstr(res , 15) for res in results3],\n",
    "    'infinity-norm':[nstr(res , 15) for res in results4],\n",
    "})"
   ]
  },
  {
   "cell_type": "code",
   "execution_count": 19,
   "metadata": {},
   "outputs": [],
   "source": [
    "df.set_index(['max period'], inplace = True)"
   ]
  },
  {
   "cell_type": "code",
   "execution_count": 20,
   "metadata": {},
   "outputs": [
    {
     "data": {
      "text/html": [
       "<div>\n",
       "<style scoped>\n",
       "    .dataframe tbody tr th:only-of-type {\n",
       "        vertical-align: middle;\n",
       "    }\n",
       "\n",
       "    .dataframe tbody tr th {\n",
       "        vertical-align: top;\n",
       "    }\n",
       "\n",
       "    .dataframe thead th {\n",
       "        text-align: right;\n",
       "    }\n",
       "</style>\n",
       "<table border=\"1\" class=\"dataframe\">\n",
       "  <thead>\n",
       "    <tr style=\"text-align: right;\">\n",
       "      <th></th>\n",
       "      <th>Pollicott</th>\n",
       "      <th>2-norm</th>\n",
       "      <th>1-norm</th>\n",
       "      <th>infinity-norm</th>\n",
       "    </tr>\n",
       "    <tr>\n",
       "      <th>max period</th>\n",
       "      <th></th>\n",
       "      <th></th>\n",
       "      <th></th>\n",
       "      <th></th>\n",
       "    </tr>\n",
       "  </thead>\n",
       "  <tbody>\n",
       "    <tr>\n",
       "      <th>1</th>\n",
       "      <td>1.09308925851915</td>\n",
       "      <td>1.12771487662921</td>\n",
       "      <td>1.77767403074471</td>\n",
       "      <td>0.693147180559945</td>\n",
       "    </tr>\n",
       "    <tr>\n",
       "      <th>2</th>\n",
       "      <td>1.1139967519492</td>\n",
       "      <td>1.1150154099501</td>\n",
       "      <td>1.44557108726526</td>\n",
       "      <td>0.909049799071256</td>\n",
       "    </tr>\n",
       "    <tr>\n",
       "      <th>3</th>\n",
       "      <td>1.11336708955451</td>\n",
       "      <td>1.11435697806841</td>\n",
       "      <td>1.33483695545302</td>\n",
       "      <td>0.977223409851798</td>\n",
       "    </tr>\n",
       "    <tr>\n",
       "      <th>4</th>\n",
       "      <td>1.11336692026619</td>\n",
       "      <td>1.11410727056611</td>\n",
       "      <td>1.27946945445769</td>\n",
       "      <td>1.01126018442876</td>\n",
       "    </tr>\n",
       "    <tr>\n",
       "      <th>5</th>\n",
       "      <td>1.11336692026723</td>\n",
       "      <td>1.11395915553119</td>\n",
       "      <td>1.24624894772951</td>\n",
       "      <td>1.03168154423466</td>\n",
       "    </tr>\n",
       "    <tr>\n",
       "      <th>6</th>\n",
       "      <td>1.11336692026723</td>\n",
       "      <td>1.11386044871997</td>\n",
       "      <td>1.22410194315408</td>\n",
       "      <td>1.04529577375891</td>\n",
       "    </tr>\n",
       "    <tr>\n",
       "      <th>7</th>\n",
       "      <td>1.11336692026723</td>\n",
       "      <td>1.11378994463571</td>\n",
       "      <td>1.20828265417027</td>\n",
       "      <td>1.0550202232629</td>\n",
       "    </tr>\n",
       "    <tr>\n",
       "      <th>8</th>\n",
       "      <td>1.11336692026723</td>\n",
       "      <td>1.11373706658924</td>\n",
       "      <td>1.19641818743239</td>\n",
       "      <td>1.06231356038848</td>\n",
       "    </tr>\n",
       "    <tr>\n",
       "      <th>9</th>\n",
       "      <td>1.11336692026723</td>\n",
       "      <td>1.11369593922012</td>\n",
       "      <td>1.18719026885848</td>\n",
       "      <td>1.06798615593057</td>\n",
       "    </tr>\n",
       "    <tr>\n",
       "      <th>10</th>\n",
       "      <td>1.11336692026723</td>\n",
       "      <td>1.11366303732483</td>\n",
       "      <td>1.17980793399935</td>\n",
       "      <td>1.07252423236423</td>\n",
       "    </tr>\n",
       "    <tr>\n",
       "      <th>11</th>\n",
       "      <td>1.11336692026723</td>\n",
       "      <td>1.11363611759232</td>\n",
       "      <td>1.17376784184189</td>\n",
       "      <td>1.07623720399178</td>\n",
       "    </tr>\n",
       "    <tr>\n",
       "      <th>12</th>\n",
       "      <td>1.11336692026723</td>\n",
       "      <td>1.1136136844819</td>\n",
       "      <td>1.16873443171067</td>\n",
       "      <td>1.07933134701473</td>\n",
       "    </tr>\n",
       "  </tbody>\n",
       "</table>\n",
       "</div>"
      ],
      "text/plain": [
       "                   Pollicott            2-norm            1-norm  \\\n",
       "max period                                                         \n",
       "1           1.09308925851915  1.12771487662921  1.77767403074471   \n",
       "2            1.1139967519492   1.1150154099501  1.44557108726526   \n",
       "3           1.11336708955451  1.11435697806841  1.33483695545302   \n",
       "4           1.11336692026619  1.11410727056611  1.27946945445769   \n",
       "5           1.11336692026723  1.11395915553119  1.24624894772951   \n",
       "6           1.11336692026723  1.11386044871997  1.22410194315408   \n",
       "7           1.11336692026723  1.11378994463571  1.20828265417027   \n",
       "8           1.11336692026723  1.11373706658924  1.19641818743239   \n",
       "9           1.11336692026723  1.11369593922012  1.18719026885848   \n",
       "10          1.11336692026723  1.11366303732483  1.17980793399935   \n",
       "11          1.11336692026723  1.11363611759232  1.17376784184189   \n",
       "12          1.11336692026723   1.1136136844819  1.16873443171067   \n",
       "\n",
       "                infinity-norm  \n",
       "max period                     \n",
       "1           0.693147180559945  \n",
       "2           0.909049799071256  \n",
       "3           0.977223409851798  \n",
       "4            1.01126018442876  \n",
       "5            1.03168154423466  \n",
       "6            1.04529577375891  \n",
       "7             1.0550202232629  \n",
       "8            1.06231356038848  \n",
       "9            1.06798615593057  \n",
       "10           1.07252423236423  \n",
       "11           1.07623720399178  \n",
       "12           1.07933134701473  "
      ]
     },
     "execution_count": 20,
     "metadata": {},
     "output_type": "execute_result"
    }
   ],
   "source": [
    "df"
   ]
  },
  {
   "cell_type": "code",
   "execution_count": null,
   "metadata": {},
   "outputs": [],
   "source": []
  }
 ],
 "metadata": {
  "kernelspec": {
   "display_name": "Python 3",
   "language": "python",
   "name": "python3"
  },
  "language_info": {
   "codemirror_mode": {
    "name": "ipython",
    "version": 3
   },
   "file_extension": ".py",
   "mimetype": "text/x-python",
   "name": "python",
   "nbconvert_exporter": "python",
   "pygments_lexer": "ipython3",
   "version": "3.8.5"
  }
 },
 "nbformat": 4,
 "nbformat_minor": 4
}
